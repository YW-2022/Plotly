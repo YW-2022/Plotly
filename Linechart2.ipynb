{
 "cells": [
  {
   "cell_type": "code",
   "execution_count": 14,
   "id": "638ac647",
   "metadata": {},
   "outputs": [
    {
     "data": {
      "text/plain": [
       "'line2.html'"
      ]
     },
     "execution_count": 14,
     "metadata": {},
     "output_type": "execute_result"
    }
   ],
   "source": [
    "#######\n",
    "# This line chart shows U.S. Census Bureau\n",
    "# population data from six New England states.\n",
    "######\n",
    "import plotly.offline as pyo\n",
    "import plotly.graph_objs as go\n",
    "import pandas as pd\n",
    "\n",
    "# read a .csv file into a pandas DataFrame:\n",
    "df = pd.read_csv('/Users/apple/Plotly-Dashboards-with-Dash-master/Data/population.csv', index_col=0)\n",
    "\n",
    "# create traces\n",
    "traces = [go.Scatter(\n",
    "    x = df.columns,\n",
    "    y = df.loc[name],\n",
    "    mode = 'markers+lines',\n",
    "    name = name,) for name in df.index]\n",
    "\n",
    "layout = go.Layout(title = 'Population Estimates of the Six New England States')\n",
    "\n",
    "fig = go.Figure(data=traces, layout=layout)\n",
    "\n",
    "pyo.plot(fig, filename='line2.html')"
   ]
  }
 ],
 "metadata": {
  "kernelspec": {
   "display_name": "Python 3 (ipykernel)",
   "language": "python",
   "name": "python3"
  },
  "language_info": {
   "codemirror_mode": {
    "name": "ipython",
    "version": 3
   },
   "file_extension": ".py",
   "mimetype": "text/x-python",
   "name": "python",
   "nbconvert_exporter": "python",
   "pygments_lexer": "ipython3",
   "version": "3.9.7"
  }
 },
 "nbformat": 4,
 "nbformat_minor": 5
}
