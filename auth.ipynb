{
 "cells": [
  {
   "cell_type": "code",
   "execution_count": null,
   "id": "cbeb00f0",
   "metadata": {},
   "outputs": [
    {
     "name": "stderr",
     "output_type": "stream",
     "text": [
      "/Users/apple/opt/anaconda3/lib/python3.9/site-packages/dash_auth/plotly_auth.py:16: UserWarning: \n",
      "The dash_html_components package is deprecated. Please replace\n",
      "`import dash_html_components as html` with `from dash import html`\n",
      "  import dash_html_components as html\n",
      "/Users/apple/opt/anaconda3/lib/python3.9/site-packages/dash_auth/plotly_auth.py:17: UserWarning: \n",
      "The dash_core_components package is deprecated. Please replace\n",
      "`import dash_core_components as dcc` with `from dash import dcc`\n",
      "  import dash_core_components as dcc\n"
     ]
    },
    {
     "name": "stdout",
     "output_type": "stream",
     "text": [
      "Dash is running on http://127.0.0.1:8050/\n",
      "\n",
      " * Serving Flask app \"__main__\" (lazy loading)\n",
      " * Environment: production\n",
      "\u001b[31m   WARNING: This is a development server. Do not use it in a production deployment.\u001b[0m\n",
      "\u001b[2m   Use a production WSGI server instead.\u001b[0m\n",
      " * Debug mode: off\n"
     ]
    },
    {
     "name": "stderr",
     "output_type": "stream",
     "text": [
      " * Running on http://127.0.0.1:8050/ (Press CTRL+C to quit)\n",
      "127.0.0.1 - - [07/Oct/2022 10:59:24] \"GET / HTTP/1.1\" 401 -\n",
      "127.0.0.1 - - [07/Oct/2022 10:59:26] \"GET / HTTP/1.1\" 200 -\n",
      "127.0.0.1 - - [07/Oct/2022 10:59:26] \"GET /_dash-layout HTTP/1.1\" 200 -\n",
      "127.0.0.1 - - [07/Oct/2022 10:59:26] \"GET /_dash-dependencies HTTP/1.1\" 200 -\n",
      "127.0.0.1 - - [07/Oct/2022 10:59:27] \"GET /_dash-component-suites/dash/dcc/async-slider.js HTTP/1.1\" 200 -\n",
      "127.0.0.1 - - [07/Oct/2022 10:59:27] \"POST /_dash-update-component HTTP/1.1\" 200 -\n",
      "127.0.0.1 - - [07/Oct/2022 10:59:27] \"GET /_favicon.ico?v=2.6.2 HTTP/1.1\" 200 -\n",
      "127.0.0.1 - - [07/Oct/2022 10:59:29] \"POST /_dash-update-component HTTP/1.1\" 200 -\n",
      "127.0.0.1 - - [07/Oct/2022 10:59:29] \"POST /_dash-update-component HTTP/1.1\" 200 -\n"
     ]
    }
   ],
   "source": [
    "import dash\n",
    "import dash_auth\n",
    "import dash_core_components as dcc\n",
    "import dash_html_components as html\n",
    "from dash.dependencies import Input, Output\n",
    "\n",
    "USERNAME_PASSWORD_PAIRS = [['username','password'],\n",
    "                           ['James','007'],\n",
    "                           ['A','001']]\n",
    "\n",
    "app = dash.Dash()\n",
    "\n",
    "auth = dash_auth.BasicAuth(app,USERNAME_PASSWORD_PAIRS)\n",
    "\n",
    "app.layout = html.Div([\n",
    "    dcc.RangeSlider(\n",
    "        id='range-slider',\n",
    "        min=-5,\n",
    "        max=6,\n",
    "        marks={i:str(i) for i in range(-5, 7)},\n",
    "        value=[-3, 4]\n",
    "    ),\n",
    "    html.H1(id='product')  # this is the output\n",
    "], style={'width':'50%'})\n",
    "\n",
    "@app.callback(\n",
    "    Output('product', 'children'),\n",
    "    [Input('range-slider', 'value')])\n",
    "def update_value(value_list):\n",
    "    return value_list[0]*value_list[1]\n",
    "\n",
    "if __name__ == '__main__':\n",
    "    app.run_server()"
   ]
  }
 ],
 "metadata": {
  "kernelspec": {
   "display_name": "Python 3 (ipykernel)",
   "language": "python",
   "name": "python3"
  },
  "language_info": {
   "codemirror_mode": {
    "name": "ipython",
    "version": 3
   },
   "file_extension": ".py",
   "mimetype": "text/x-python",
   "name": "python",
   "nbconvert_exporter": "python",
   "pygments_lexer": "ipython3",
   "version": "3.9.7"
  }
 },
 "nbformat": 4,
 "nbformat_minor": 5
}
