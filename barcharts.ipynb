{
 "cells": [
  {
   "cell_type": "code",
   "execution_count": 3,
   "id": "44f6f8e5",
   "metadata": {},
   "outputs": [
    {
     "data": {
      "text/plain": [
       "'temp-plot.html'"
      ]
     },
     "execution_count": 3,
     "metadata": {},
     "output_type": "execute_result"
    }
   ],
   "source": [
    "#######\n",
    "# A basic bar chart showing the total number of\n",
    "# 2018 Winter Olympics Medals won by Country.\n",
    "######\n",
    "import plotly.offline as pyo\n",
    "import plotly.graph_objs as go\n",
    "import pandas as pd\n",
    "\n",
    "df = pd.read_csv('/Users/apple/Plotly-Dashboards-with-Dash-master/Data/2018WinterOlympics.csv')\n",
    "\n",
    "trace1 = go.Bar(x=df['NOC'],y=df['Gold'],name='Gold',marker={'color':'#FFD700'})\n",
    "\n",
    "trace2 = go.Bar(x=df['NOC'],y=df['Silver'],name='Silver',marker={'color':'#9EA0A1'})\n",
    "\n",
    "trace3 = go.Bar(x=df['NOC'],y=df['Bronze'],name='Bronze',marker={'color':'#CD7F32'})\n",
    "\n",
    "data = [trace1,trace2,trace3]\n",
    "layout = go.Layout(title='Medals')\n",
    "\n",
    "fig = go.Figure(data=data,layout=layout)\n",
    "\n",
    "pyo.plot(fig)"
   ]
  }
 ],
 "metadata": {
  "kernelspec": {
   "display_name": "Python 3 (ipykernel)",
   "language": "python",
   "name": "python3"
  },
  "language_info": {
   "codemirror_mode": {
    "name": "ipython",
    "version": 3
   },
   "file_extension": ".py",
   "mimetype": "text/x-python",
   "name": "python",
   "nbconvert_exporter": "python",
   "pygments_lexer": "ipython3",
   "version": "3.9.7"
  }
 },
 "nbformat": 4,
 "nbformat_minor": 5
}
