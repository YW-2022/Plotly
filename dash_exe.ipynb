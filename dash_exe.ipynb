{
 "cells": [
  {
   "cell_type": "code",
   "execution_count": null,
   "id": "0e24afd3",
   "metadata": {},
   "outputs": [],
   "source": [
    "import dash\n",
    "import dash_html_components as html\n",
    "import dash_core_components as dcc\n",
    "\n",
    "import plotly.graph_objs as go\n",
    "import pandas as pd\n",
    "\n",
    "df = pd.read_csv('/Users/apple/Plotly-Dashboards-with-Dash-master/Data/OldFaithful.csv')\n",
    "\n",
    "app = dash.Dash()\n",
    "\n",
    "app.layout = html.Div([dcc.Graph(id='old_faithful',\n",
    "                                figure={'data': [go.Scatter(x=df['X'],\n",
    "                                                           y=df['Y'],\n",
    "                                                           mode='markers')]\n",
    "                                        ,'layout':go.Layout(title='Old Faithful Eruptions',\n",
    "                                                            xaxis={'title':'Duration'},\n",
    "                                                            yaxis={'title':'Interval'}\n",
    "                                                           )})])\n",
    "\n",
    "\n",
    "if __name__ == '__main__':\n",
    "    app.run_server()"
   ]
  },
  {
   "cell_type": "code",
   "execution_count": null,
   "id": "f892d89c",
   "metadata": {},
   "outputs": [],
   "source": []
  }
 ],
 "metadata": {
  "kernelspec": {
   "display_name": "Python 3 (ipykernel)",
   "language": "python",
   "name": "python3"
  },
  "language_info": {
   "codemirror_mode": {
    "name": "ipython",
    "version": 3
   },
   "file_extension": ".py",
   "mimetype": "text/x-python",
   "name": "python",
   "nbconvert_exporter": "python",
   "pygments_lexer": "ipython3",
   "version": "3.9.7"
  }
 },
 "nbformat": 4,
 "nbformat_minor": 5
}
