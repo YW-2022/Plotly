{
 "cells": [
  {
   "cell_type": "code",
   "execution_count": 6,
   "id": "56ffc578",
   "metadata": {},
   "outputs": [
    {
     "data": {
      "text/plain": [
       "'temp-plot.html'"
      ]
     },
     "execution_count": 6,
     "metadata": {},
     "output_type": "execute_result"
    }
   ],
   "source": [
    "import numpy as np\n",
    "\n",
    "import plotly.offline as pyo\n",
    "import plotly.graph_objs as go\n",
    "\n",
    "np.random.seed(56)\n",
    "\n",
    "x_values = np.linspace(0,1,100)\n",
    "y_values = np.random.randn(100)\n",
    "\n",
    "trace0 = go.Scatter(x=x_values,y=y_values+5,mode='markers',name='makers')\n",
    "\n",
    "trace1 = go.Scatter(x=x_values,y=y_values,mode='lines',name='mylines')\n",
    "\n",
    "trace2 = go.Scatter(x=x_values,y=y_values-5,mode='lines+markers',name='plus')\n",
    "\n",
    "data = [trace0,trace1,trace2]\n",
    "\n",
    "layout = go.Layout(title='Line Charts')\n",
    "\n",
    "fig = go.Figure(data=data, layout=layout)\n",
    "\n",
    "pyo.plot(fig)"
   ]
  }
 ],
 "metadata": {
  "kernelspec": {
   "display_name": "Python 3 (ipykernel)",
   "language": "python",
   "name": "python3"
  },
  "language_info": {
   "codemirror_mode": {
    "name": "ipython",
    "version": 3
   },
   "file_extension": ".py",
   "mimetype": "text/x-python",
   "name": "python",
   "nbconvert_exporter": "python",
   "pygments_lexer": "ipython3",
   "version": "3.9.7"
  }
 },
 "nbformat": 4,
 "nbformat_minor": 5
}
