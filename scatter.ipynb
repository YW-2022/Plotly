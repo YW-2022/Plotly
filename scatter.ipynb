{
 "cells": [
  {
   "cell_type": "code",
   "execution_count": 10,
   "id": "43ee0270",
   "metadata": {},
   "outputs": [
    {
     "data": {
      "text/plain": [
       "'scatter1.html'"
      ]
     },
     "execution_count": 10,
     "metadata": {},
     "output_type": "execute_result"
    }
   ],
   "source": [
    "import plotly.offline as pyo\n",
    "import plotly.graph_objs as go\n",
    "import numpy as np\n",
    "\n",
    "np.random.seed(42)\n",
    "random_x = np.random.randint(1,101,100)\n",
    "random_y = np.random.randint(1,101,100)\n",
    "\n",
    "data = [go.Scatter(\n",
    "    x = random_x,\n",
    "    y = random_y,\n",
    "    mode = 'markers',\n",
    "    marker = dict(\n",
    "        size=12,\n",
    "        color='rgb(51,204,153)',\n",
    "        symbol='pentagon',\n",
    "        line = {'width':2}  \n",
    "    )\n",
    ")]\n",
    "\n",
    "layout = go.Layout(title=\"Hello first Plotly\", xaxis={'title':'My x axis'}, yaxis=dict(title='My x axis'),\n",
    "                  hovermode='closest')\n",
    "\n",
    "fig = go.Figure(data=data, layout=layout)\n",
    "\n",
    "pyo.plot(fig, filename='scatter1.html')"
   ]
  }
 ],
 "metadata": {
  "kernelspec": {
   "display_name": "Python 3 (ipykernel)",
   "language": "python",
   "name": "python3"
  },
  "language_info": {
   "codemirror_mode": {
    "name": "ipython",
    "version": 3
   },
   "file_extension": ".py",
   "mimetype": "text/x-python",
   "name": "python",
   "nbconvert_exporter": "python",
   "pygments_lexer": "ipython3",
   "version": "3.9.7"
  }
 },
 "nbformat": 4,
 "nbformat_minor": 5
}
